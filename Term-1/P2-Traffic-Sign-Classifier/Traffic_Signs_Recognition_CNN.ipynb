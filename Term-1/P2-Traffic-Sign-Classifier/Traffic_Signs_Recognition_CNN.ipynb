{
 "cells": [
  {
   "cell_type": "markdown",
   "metadata": {},
   "source": [
    "# Self-Driving Car Engineer Nanodegree\n",
    "\n",
    "## Deep Learning\n",
    "\n",
    "## Project: Build a Traffic Sign Recognition Classifier\n",
    "\n",
    "In this notebook, a template is provided for you to implement your functionality in stages which is required to successfully complete this project. If additional code is required that cannot be included in the notebook, be sure that the Python code is successfully imported and included in your submission, if necessary. Sections that begin with **'Implementation'** in the header indicate where you should begin your implementation for your project. Note that some sections of implementation are optional, and will be marked with **'Optional'** in the header.\n",
    "\n",
    "In addition to implementing code, there will be questions that you must answer which relate to the project and your implementation. Each section where you will answer a question is preceded by a **'Question'** header. Carefully read each question and provide thorough answers in the following text boxes that begin with **'Answer:'**. Your project submission will be evaluated based on your answers to each of the questions and the implementation you provide.\n",
    "\n",
    ">**Note:** Code and Markdown cells can be executed using the **Shift + Enter** keyboard shortcut. In addition, Markdown cells can be edited by typically double-clicking the cell to enter edit mode."
   ]
  },
  {
   "cell_type": "markdown",
   "metadata": {},
   "source": [
    "---\n",
    "\n",
    "## Step 1: Dataset Exploration\n",
    "\n",
    "Visualize the German Traffic Signs Dataset. This is open ended, some suggestions include: plotting traffic signs images, plotting the count of each sign, etc. Be creative!\n",
    "\n",
    "\n",
    "The pickled data is a dictionary with 4 key/value pairs:\n",
    "\n",
    "- features -> the images pixel values, (width, height, channels)\n",
    "- labels -> the label of the traffic sign\n",
    "- sizes -> the original width and height of the image, (width, height)\n",
    "- coords -> coordinates of a bounding box around the sign in the image, (x1, y1, x2, y2). Based the original image (not the resized version)."
   ]
  },
  {
   "cell_type": "code",
   "execution_count": null,
   "metadata": {
    "collapsed": false
   },
   "outputs": [],
   "source": [
    "### import statements\n",
    "import numpy as np\n",
    "import matplotlib.pyplot as plt\n",
    "import matplotlib.image as mpimg\n",
    "from sklearn import preprocessing\n",
    "from sklearn.preprocessing import OneHotEncoder\n",
    "from sklearn.model_selection import train_test_split\n",
    "from sklearn.utils import shuffle\n",
    "import tensorflow as tf\n",
    "import pickle\n",
    "import time\n",
    "from PIL import Image\n",
    "%matplotlib inline"
   ]
  },
  {
   "cell_type": "code",
   "execution_count": null,
   "metadata": {
    "collapsed": true
   },
   "outputs": [],
   "source": [
    "### Load pickled data\n",
    "training_file = \"train.p\"\n",
    "testing_file = \"test.p\"\n",
    "\n",
    "with open(training_file, mode='rb') as f:\n",
    "    train = pickle.load(f)\n",
    "with open(testing_file, mode='rb') as f:\n",
    "    test = pickle.load(f)\n",
    "    \n",
    "X_train, y_train = train['features'], train['labels']\n",
    "X_test, y_test = test['features'], test['labels']"
   ]
  },
  {
   "cell_type": "code",
   "execution_count": null,
   "metadata": {
    "collapsed": false
   },
   "outputs": [],
   "source": [
    "### Basic data summary.\n",
    "\n",
    "# TODO: number of training examples\n",
    "n_train = len(X_train)\n",
    "\n",
    "# TODO: number of testing examples\n",
    "n_test = len(X_test)\n",
    "\n",
    "# TODO: what's the shape of an image?\n",
    "image_shape = X_train[0].shape\n",
    "\n",
    "# TODO: how many classes are in the dataset\n",
    "n_classes = len(np.unique(y_train))\n",
    "\n",
    "print(\"Number of training examples =\", n_train)\n",
    "print(\"Number of testing examples =\", n_test)\n",
    "print(\"Image data shape =\", image_shape)\n",
    "print(\"Number of classes =\", n_classes)"
   ]
  },
  {
   "cell_type": "code",
   "execution_count": null,
   "metadata": {
    "collapsed": false
   },
   "outputs": [],
   "source": [
    "### Data exploration visualization\n",
    "fig = plt.figure(figsize=(20, 8))\n",
    "\n",
    "image_seq = np.random.randint(1,len(X_train),10)\n",
    "\n",
    "for ind,val in enumerate(image_seq):\n",
    "    img = fig.add_subplot(2,5,ind+1)\n",
    "    plt.imshow(X_train[val-1])\n",
    "    #Add corresponding label\n",
    "    img.set_xlabel(\"Ground Truth: {0}\".format(y_train[val-1]))\n",
    "    #Remove the axis ticks\n",
    "    img.set_xticks([])\n",
    "    img.set_yticks([])\n",
    "\n",
    "plt.show()"
   ]
  },
  {
   "cell_type": "markdown",
   "metadata": {},
   "source": [
    "----\n",
    "\n",
    "## Step 2: Design and Test a Model Architecture\n",
    "\n",
    "Design and implement a deep learning model that learns to recognize traffic signs. Train and test your model on the [German Traffic Sign Dataset](http://benchmark.ini.rub.de/?section=gtsrb&subsection=dataset).\n",
    "\n",
    "There are various aspects to consider when thinking about this problem:\n",
    "\n",
    "- Your model can be derived from a deep feedforward net or a deep convolutional network.\n",
    "- Play around preprocessing techniques (normalization, rgb to grayscale, etc)\n",
    "- Number of examples per label (some have more than others).\n",
    "- Generate fake data.\n",
    "\n",
    "Here is an example of a [published baseline model on this problem](http://yann.lecun.com/exdb/publis/pdf/sermanet-ijcnn-11.pdf). It's not required to be familiar with the approach used in the paper but, it's good practice to try to read papers like these."
   ]
  },
  {
   "cell_type": "markdown",
   "metadata": {},
   "source": [
    "### Implementation\n",
    "\n",
    "Use the code cell (or multiple code cells, if necessary) to implement the first step of your project. Once you have completed your implementation and are satisfied with the results, be sure to thoroughly answer the questions that follow."
   ]
  },
  {
   "cell_type": "code",
   "execution_count": null,
   "metadata": {
    "collapsed": true
   },
   "outputs": [],
   "source": [
    "### Preprocess data\n",
    "# Grayscale conversion\n",
    "'''\n",
    "Weighted average approach utilizing numpy functions. No need for OpenCV\n",
    "Y' = 0.299 R + 0.587 G + 0.114 B \n",
    "'''\n",
    "X_train_gray = np.dot(X_train[...][...,:3],[0.299,0.587,0.114])\n",
    "X_test_gray = np.dot(X_test[...][...,:3],[0.299,0.587,0.114])\n",
    "\n",
    "# Normalize data (Zero-Mean)\n",
    "X_train_gray_norm = (X_train_gray - np.mean(X_train_gray))/np.std(X_train_gray)\n",
    "X_test_gray_norm = (X_test_gray - np.mean(X_test_gray))/np.std(X_test_gray)"
   ]
  },
  {
   "cell_type": "code",
   "execution_count": null,
   "metadata": {
    "collapsed": true
   },
   "outputs": [],
   "source": [
    "### One-Hot Encoding\n",
    "'''\n",
    "Since we already have the labels we can use Label Binarizer.\n",
    "'''\n",
    "encoder = preprocessing.LabelBinarizer()\n",
    "y_train_oh = encoder.fit_transform(y_train)\n",
    "y_test_oh = encoder.fit_transform(y_test)"
   ]
  },
  {
   "cell_type": "markdown",
   "metadata": {},
   "source": [
    "### Question 1 \n",
    "\n",
    "_Describe the techniques used to preprocess the data._"
   ]
  },
  {
   "cell_type": "markdown",
   "metadata": {},
   "source": [
    "**Answer:**"
   ]
  },
  {
   "cell_type": "code",
   "execution_count": null,
   "metadata": {
    "collapsed": true
   },
   "outputs": [],
   "source": [
    "### Split and shuffle data\n",
    "'''\n",
    "Use sklearn to split training data into training and validation set. Keep test data for test set.\n",
    "'''\n",
    "train_features, valid_features, train_labels, valid_labels = train_test_split(\n",
    "    X_train_gray_norm, y_train_oh, test_size=0.15, random_state=422016)\n",
    "\n",
    "train_features, train_labels = shuffle(train_features, train_labels)\n",
    "valid_features, valid_labels = shuffle(valid_features, valid_labels)"
   ]
  },
  {
   "cell_type": "code",
   "execution_count": null,
   "metadata": {
    "collapsed": false
   },
   "outputs": [],
   "source": [
    "# Flatten/Reshape data\n",
    "image_size = len(train_features[0])\n",
    "n_input = image_size**2\n",
    "num_channels = 1 # grayscale\n",
    "\n",
    "train_features_f = np.reshape(train_features, [-1, image_size, image_size, num_channels])\n",
    "valid_features_f = np.reshape(valid_features, [-1, image_size, image_size, num_channels])\n",
    "X_test_gray_flat = np.reshape(X_test_gray_norm, [-1, image_size, image_size, num_channels])\n",
    "\n",
    "# For initial testing\n",
    "'''\n",
    "train_features_f = train_features_f1[:501]\n",
    "valid_features_f = valid_features_f1[:501]\n",
    "train_labels = train_labels_1[:501]\n",
    "valid_labels = valid_labels_1[:501]\n",
    "'''"
   ]
  },
  {
   "cell_type": "markdown",
   "metadata": {},
   "source": [
    "### Question 2\n",
    "\n",
    "_Describe how you set up the training, validation and testing data for your model. If you generated additional data, why?_"
   ]
  },
  {
   "cell_type": "markdown",
   "metadata": {},
   "source": [
    "**Answer:**"
   ]
  },
  {
   "cell_type": "code",
   "execution_count": null,
   "metadata": {
    "collapsed": true
   },
   "outputs": [],
   "source": [
    "### Helper Functions\n",
    "def calc_weights(shape):\n",
    "    return tf.Variable(tf.truncated_normal(shape, stddev = 0.01))\n",
    "\n",
    "\n",
    "def calc_biases(length):\n",
    "    return tf.Variable(tf.zeros(length))\n",
    "\n",
    "\n",
    "def maxpool(ip, stride_len = 2):\n",
    "    filter_size = [1, stride_len, stride_len, 1]\n",
    "    return tf.nn.max_pool(ip, ksize = filter_size, strides = [1, stride_len, stride_len, 1], padding = 'VALID')\n",
    "\n",
    "def dropout(layer):\n",
    "    return tf.nn.dropout(layer, keep_prob=0.5)\n",
    "\n",
    "\n",
    "def conv_layer(ip, weights, biases, stride_len = 1):\n",
    "    '''\n",
    "    input_layer_width -> Number of inputs from previous layer\n",
    "    output_layer_width -> width of layer\n",
    "    '''  \n",
    "    c_layer = tf.nn.conv2d(ip, weights, strides = [1, stride_len, stride_len, 1], padding = 'VALID')\n",
    "    c_layer = tf.nn.bias_add(c_layer, biases)\n",
    "    \n",
    "    c_layer = maxpool(c_layer, 2) #stride length for max_pool = 2\n",
    "    \n",
    "    c_layer = tf.nn.relu(c_layer)\n",
    "    return dropout(c_layer)\n",
    "\n",
    "\n",
    "def reshape_layer(ip):\n",
    "    '''\n",
    "    Flatten or reshape conv_layer for input to fc_layer\n",
    "    '''\n",
    "    flat_layer = tf.reshape(ip, [-1, ip.get_shape()[1:4].num_elements()])\n",
    "    \n",
    "    #print(\"Flat Layer: %s\" %flat_layer.get_shape())\n",
    "    \n",
    "    return flat_layer\n",
    "\n",
    "def fully_conn_layer(ip, weights, biases):\n",
    "    '''\n",
    "    input_layer_width -> Number of inputs from previous flattened layer\n",
    "    output_layer_width -> width of layer, or equal to number of classes for prediction layer\n",
    "    '''  \n",
    "    flat_input = reshape_layer(ip)\n",
    "    fc_layer = tf.add(tf.matmul(flat_input, weights), biases)\n",
    "    \n",
    "    #print(\"FC Layer: %s\" %fc_layer.get_shape())\n",
    "    #Not applying ReLU here because this could be prediction layer\n",
    "    return fc_layer\n",
    "\n",
    "def plot_loss_accuracy(batches, loss_batch, train_acc_batch, valid_acc_batch):\n",
    "    loss_plot = plt.subplot(211)\n",
    "    loss_plot.set_title('Loss')\n",
    "    loss_plot.plot(batches, loss_batch, 'g')\n",
    "    loss_plot.set_xlim([batches[0], batches[-1]])\n",
    "    acc_plot = plt.subplot(212)\n",
    "    acc_plot.set_title('Accuracy')\n",
    "    acc_plot.plot(batches, train_acc_batch, 'r', label='Training Accuracy')\n",
    "    acc_plot.plot(batches, valid_acc_batch, 'b', label='Validation Accuracy')\n",
    "    acc_plot.set_ylim([0, 1.0])\n",
    "    acc_plot.set_xlim([batches[0], batches[-1]])\n",
    "    acc_plot.legend(loc=4)\n",
    "    plt.tight_layout()\n",
    "    plt.show()"
   ]
  },
  {
   "cell_type": "code",
   "execution_count": null,
   "metadata": {
    "collapsed": true
   },
   "outputs": [],
   "source": [
    "### Convnet model\n",
    "def convnet_model(ip, weights_dict, biases_dict):\n",
    "    \n",
    "    #print(ip.get_shape())\n",
    "    #First conv layer\n",
    "    c_layer_1 = conv_layer(ip, weights_dict['layer_1'], biases_dict['layer_1'], stride_len = 1)\n",
    "    \n",
    "    #Second conv layer\n",
    "    c_layer_2 = conv_layer(c_layer_1, weights_dict['layer_2'], biases_dict['layer_2'], stride_len = 1)\n",
    "    #print(c_layer_1.get_shape())\n",
    "    \n",
    "    #FC Layer\n",
    "    fc_layer = fully_conn_layer(c_layer_2, weights_dict['fc_layer'], biases_dict['fc_layer'])\n",
    "    \n",
    "    fc_layer = tf.nn.relu(fc_layer)\n",
    "    fc_layer = dropout(fc_layer)\n",
    "    #print(fc_layer.get_shape())\n",
    "    #Output fc layer\n",
    "    out = fully_conn_layer(fc_layer, weights_dict['out'], biases_dict['out'])\n",
    "    \n",
    "    #print(out.get_shape())\n",
    "    return out  \n",
    "    "
   ]
  },
  {
   "cell_type": "code",
   "execution_count": null,
   "metadata": {
    "collapsed": false
   },
   "outputs": [],
   "source": [
    "# Dimensions\n",
    "layer_width = {\n",
    "    'layer_1': 32,\n",
    "    'layer_2': 64,\n",
    "    'fc_layer': 1024,\n",
    "    'out': n_classes\n",
    "} # number of filters\n",
    "\n",
    "filter_size = {\n",
    "    'layer_1': 5\n",
    "} # conv filter size\n",
    "\n",
    "\n",
    "# Weights and biases\n",
    "weights_dict = {\n",
    "    'layer_1': calc_weights([filter_size['layer_1'], filter_size['layer_1'] , num_channels, layer_width['layer_1']]),\n",
    "    'layer_2': calc_weights([filter_size['layer_1'], filter_size['layer_1'] , layer_width['layer_1'], layer_width['layer_2']]),\n",
    "    'fc_layer': calc_weights([ 1600, layer_width['fc_layer']]),\n",
    "    'out': calc_weights([layer_width['fc_layer'], layer_width['out']])\n",
    "}\n",
    "\n",
    "biases_dict = {\n",
    "    'layer_1': calc_biases([layer_width['layer_1']]),\n",
    "    'layer_2': calc_biases([layer_width['layer_2']]),\n",
    "    'fc_layer': calc_biases([layer_width['fc_layer']]),\n",
    "    'out': calc_biases([layer_width['out']])\n",
    "}"
   ]
  },
  {
   "cell_type": "code",
   "execution_count": null,
   "metadata": {
    "collapsed": false
   },
   "outputs": [],
   "source": [
    "# Define Parameters\n",
    "learning_rate = 0.001\n",
    "training_epochs = 5\n",
    "batch_size = 64\n",
    "display_step = 1"
   ]
  },
  {
   "cell_type": "code",
   "execution_count": null,
   "metadata": {
    "collapsed": false
   },
   "outputs": [],
   "source": [
    "# Input graph for TF\n",
    "network_input = tf.placeholder(\"float\", [None, image_size, image_size, 1])\n",
    "network_output = tf.placeholder(\"float\", [None, n_classes])\n",
    "\n",
    "logits = convnet_model(network_input, weights_dict, biases_dict)\n",
    "\n",
    "# Check if predictions are correct.\n",
    "correct_prediction = tf.equal(tf.argmax(logits, 1), tf.argmax(network_output, 1))\n",
    "# Calculate accuracy\n",
    "accuracy = tf.reduce_mean(tf.cast(correct_prediction, \"float\"))\n",
    "\n",
    "# Cost function and Optimizer\n",
    "cost = tf.reduce_mean(tf.nn.softmax_cross_entropy_with_logits(logits, network_output))\n",
    "optimizer = tf.train.AdamOptimizer(learning_rate=learning_rate).minimize(cost)\n"
   ]
  },
  {
   "cell_type": "code",
   "execution_count": null,
   "metadata": {
    "collapsed": false,
    "scrolled": true
   },
   "outputs": [],
   "source": [
    "# Initialize variables\n",
    "#init = tf.global_variables_initializer()\n",
    "init = tf.initialize_all_variables()\n",
    "\n",
    "batches = []\n",
    "loss_batch = []\n",
    "train_acc_batch = []\n",
    "valid_acc_batch = []\n",
    "\n",
    "total_time = time.time()\n",
    "# Launch graph\n",
    "with tf.Session() as session:\n",
    "    session.run(init)\n",
    "    \n",
    "    # Training cycle\n",
    "    for epochs in range(training_epochs):\n",
    "        start_time = time.time()\n",
    "        avg_cost = 0.\n",
    "        total_batch = int(len(train_features)/batch_size)\n",
    "        \n",
    "        for i in range(total_batch):\n",
    "            idx_l = i*batch_size\n",
    "            idx_h = idx_l + batch_size\n",
    "            \n",
    "            batch_x = train_features_f[idx_l:idx_h]\n",
    "            batch_y = train_labels[idx_l:idx_h]\n",
    "                        \n",
    "            _,c = session.run([optimizer, cost], feed_dict = {network_input: batch_x, network_output: batch_y})\n",
    "            \n",
    "            # Compute average loss\n",
    "            avg_cost += c / total_batch\n",
    "            \n",
    "       \n",
    "        # Log every 50 batches\n",
    "            if not i % 50:\n",
    "                # Calculate Training and Validation accuracy\n",
    "                training_accuracy = session.run(accuracy, feed_dict={network_input: train_features_f, network_output: train_labels})\n",
    "                validation_accuracy = session.run(accuracy, feed_dict={network_input: valid_features_f, network_output: valid_labels})\n",
    "\n",
    "                # Log batches\n",
    "                previous_batch = batches[-1] if batches else 0\n",
    "                batches.append(50 + previous_batch)\n",
    "                loss_batch.append(c)\n",
    "                train_acc_batch.append(training_accuracy)\n",
    "                valid_acc_batch.append(validation_accuracy)\n",
    "                \n",
    "        # Display logs per epoch step\n",
    "        if epochs % display_step == 0:\n",
    "            print(\"Epoch:\", '%04d' % (epochs+1), \"cost=\", \\\n",
    "                \"{:.9f}\".format(avg_cost))\n",
    "        end_time = time.time() - start_time\n",
    "        print(\"Time after epoch: %s\" %end_time)\n",
    "        \n",
    "        # Check accuracy against Validation data\n",
    "        validation_accuracy = session.run(accuracy, feed_dict={network_input: valid_features_f, network_output: valid_labels})\n",
    "        \n",
    "    print(\"Optimization Finished!\")\n",
    "    \n",
    "    test_accuracy = session.run(accuracy, feed_dict = \n",
    "                                            {network_input: X_test_gray_flat, network_output: y_test_oh})\n",
    "    print(\"Training Accuracy:\", training_accuracy)\n",
    "    print(\"Validation Accuracy:\", validation_accuracy)\n",
    "    print(\"Test Accuracy:\", test_accuracy)\n",
    "    \n",
    "    plot_loss_accuracy(batches, loss_batch, train_acc_batch, valid_acc_batch)\n",
    "    \n",
    "    final_time = time.time() - total_time\n",
    "    print(\"Time taken: %s\" %final_time)"
   ]
  },
  {
   "cell_type": "markdown",
   "metadata": {},
   "source": [
    "### Question 3\n",
    "\n",
    "_What does your final architecture look like? (Type of model, layers, sizes, connectivity, etc.)  For reference on how to build a deep neural network using TensorFlow, see [Deep Neural Network in TensorFlow\n",
    "](https://classroom.udacity.com/nanodegrees/nd013/parts/fbf77062-5703-404e-b60c-95b78b2f3f9e/modules/6df7ae49-c61c-4bb2-a23e-6527e69209ec/lessons/b516a270-8600-4f93-a0a3-20dfeabe5da6/concepts/83a3a2a2-a9bd-4b7b-95b0-eb924ab14432) from the classroom._\n"
   ]
  },
  {
   "cell_type": "markdown",
   "metadata": {},
   "source": [
    "**Answer:**"
   ]
  },
  {
   "cell_type": "code",
   "execution_count": null,
   "metadata": {
    "collapsed": true
   },
   "outputs": [],
   "source": [
    "### Train your model here.\n",
    "### Feel free to use as many code cells as needed."
   ]
  },
  {
   "cell_type": "markdown",
   "metadata": {},
   "source": [
    "### Question 4\n",
    "\n",
    "_How did you train your model? (Type of optimizer, batch size, epochs, hyperparameters, etc.)_\n"
   ]
  },
  {
   "cell_type": "markdown",
   "metadata": {},
   "source": [
    "**Answer:**"
   ]
  },
  {
   "cell_type": "markdown",
   "metadata": {},
   "source": [
    "### Question 5\n",
    "\n",
    "\n",
    "_What approach did you take in coming up with a solution to this problem?_"
   ]
  },
  {
   "cell_type": "markdown",
   "metadata": {},
   "source": [
    "**Answer:**"
   ]
  },
  {
   "cell_type": "markdown",
   "metadata": {},
   "source": [
    "---\n",
    "\n",
    "## Step 3: Test a Model on New Images\n",
    "\n",
    "Take several pictures of traffic signs that you find on the web or around you (at least five), and run them through your classifier on your computer to produce example results. The classifier might not recognize some local signs but it could prove interesting nonetheless.\n",
    "\n",
    "You may find `signnames.csv` useful as it contains mappings from the class id (integer) to the actual sign name."
   ]
  },
  {
   "cell_type": "markdown",
   "metadata": {},
   "source": [
    "### Implementation\n",
    "\n",
    "Use the code cell (or multiple code cells, if necessary) to implement the first step of your project. Once you have completed your implementation and are satisfied with the results, be sure to thoroughly answer the questions that follow."
   ]
  },
  {
   "cell_type": "code",
   "execution_count": null,
   "metadata": {
    "collapsed": true
   },
   "outputs": [],
   "source": [
    "### Load the images and plot them here.\n",
    "### Feel free to use as many code cells as needed."
   ]
  },
  {
   "cell_type": "markdown",
   "metadata": {},
   "source": [
    "### Question 6\n",
    "\n",
    "_Choose five candidate images of traffic signs and provide them in the report. Are there any particular qualities of the image(s) that might make classification difficult? It would be helpful to plot the images in the notebook._\n",
    "\n"
   ]
  },
  {
   "cell_type": "markdown",
   "metadata": {},
   "source": [
    "**Answer:**"
   ]
  },
  {
   "cell_type": "code",
   "execution_count": null,
   "metadata": {
    "collapsed": true
   },
   "outputs": [],
   "source": [
    "### Run the predictions here.\n",
    "### Feel free to use as many code cells as needed."
   ]
  },
  {
   "cell_type": "markdown",
   "metadata": {},
   "source": [
    "### Question 7\n",
    "\n",
    "_Is your model able to perform equally well on captured pictures or a live camera stream when compared to testing on the dataset?_\n"
   ]
  },
  {
   "cell_type": "markdown",
   "metadata": {},
   "source": [
    "**Answer:**"
   ]
  },
  {
   "cell_type": "code",
   "execution_count": null,
   "metadata": {
    "collapsed": true
   },
   "outputs": [],
   "source": [
    "### Visualize the softmax probabilities here.\n",
    "### Feel free to use as many code cells as needed."
   ]
  },
  {
   "cell_type": "markdown",
   "metadata": {},
   "source": [
    "### Question 8\n",
    "\n",
    "*Use the model's softmax probabilities to visualize the **certainty** of its predictions, [`tf.nn.top_k`](https://www.tensorflow.org/versions/r0.11/api_docs/python/nn.html#top_k) could prove helpful here. Which predictions is the model certain of? Uncertain? If the model was incorrect in its initial prediction, does the correct prediction appear in the top k? (k should be 5 at most)*\n"
   ]
  },
  {
   "cell_type": "markdown",
   "metadata": {},
   "source": [
    "**Answer:**"
   ]
  },
  {
   "cell_type": "markdown",
   "metadata": {},
   "source": [
    "### Question 9\n",
    "_If necessary, provide documentation for how an interface was built for your model to load and classify newly-acquired images._\n"
   ]
  },
  {
   "cell_type": "markdown",
   "metadata": {},
   "source": [
    "**Answer:**"
   ]
  },
  {
   "cell_type": "markdown",
   "metadata": {},
   "source": [
    "> **Note**: Once you have completed all of the code implementations and successfully answered each question above, you may finalize your work by exporting the iPython Notebook as an HTML document. You can do this by using the menu above and navigating to  \\n\",\n",
    "    \"**File -> Download as -> HTML (.html)**. Include the finished document along with this notebook as your submission."
   ]
  },
  {
   "cell_type": "code",
   "execution_count": null,
   "metadata": {
    "collapsed": true
   },
   "outputs": [],
   "source": []
  }
 ],
 "metadata": {
  "anaconda-cloud": {},
  "kernelspec": {
   "display_name": "Python [default]",
   "language": "python",
   "name": "python3"
  },
  "language_info": {
   "codemirror_mode": {
    "name": "ipython",
    "version": 3
   },
   "file_extension": ".py",
   "mimetype": "text/x-python",
   "name": "python",
   "nbconvert_exporter": "python",
   "pygments_lexer": "ipython3",
   "version": "3.5.2"
  }
 },
 "nbformat": 4,
 "nbformat_minor": 1
}
